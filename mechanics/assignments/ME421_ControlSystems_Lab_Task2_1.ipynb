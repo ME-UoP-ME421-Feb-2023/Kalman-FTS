{
  "nbformat": 4,
  "nbformat_minor": 0,
  "metadata": {
    "colab": {
      "provenance": [],
      "include_colab_link": true
    },
    "kernelspec": {
      "name": "python3",
      "display_name": "Python 3"
    },
    "language_info": {
      "name": "python"
    }
  },
  "cells": [
    {
      "cell_type": "markdown",
      "metadata": {
        "id": "view-in-github",
        "colab_type": "text"
      },
      "source": [
        "<a href=\"https://colab.research.google.com/github/ME-UoP-ME421/Kalman-FTS/blob/main/mechanics/assignments/ME421_ControlSystems_Lab_Task2_1.ipynb\" target=\"_parent\"><img src=\"https://colab.research.google.com/assets/colab-badge.svg\" alt=\"Open In Colab\"/></a>"
      ]
    },
    {
      "cell_type": "markdown",
      "source": [
        "#Instructions"
      ],
      "metadata": {
        "id": "tjwc7ZikCWjn"
      }
    },
    {
      "cell_type": "markdown",
      "source": [
        "* This is a group assignment. Complete the activities in groups that were assigned for ME421 for the vibrations lab.\n",
        "\n",
        "* Make a copy of this and save it in your group github group repository.\n",
        "\n",
        "* Do all your work, EXCLUSIVELY, in that saved notebook. Your github commits will serve as a refelection of your individual contributions. It will constitute 25% of your final grade for the lab.\n",
        "\n",
        "* Complete Tasks#1 and Task#2 by 5:00PM on 14/06/2023\n",
        "\n",
        "* Complete Tasks#3 and the Task#4 by 5:00PM on 21/06/2023 and demonstrate the work in the class on 21/06/2023.\n",
        "\n",
        "* Complete Task#5 by 5:00PM on 28/06/2023."
      ],
      "metadata": {
        "id": "pOeY40kCCZIY"
      }
    },
    {
      "cell_type": "markdown",
      "source": [
        "#References"
      ],
      "metadata": {
        "id": "xQxmvsoX2wtl"
      }
    },
    {
      "cell_type": "markdown",
      "source": [
        "* https://colab.research.google.com/github/mugalan/classical-mechanics-from-a-geometric-point-of-view/blob/main/rigid-body-control/Mugas_Rigid_Body_Control.ipynb\n",
        "\n",
        "* https://github.com/mugalan/classical-mechanics-from-a-geometric-point-of-view/blob/main/rigid-body-control/MaithriPalaDHS_RigidBodyPIDControl_IITB_18_03_2023.pdf"
      ],
      "metadata": {
        "id": "N2PYkHmG2y9o"
      }
    },
    {
      "cell_type": "markdown",
      "source": [
        "#Task#1"
      ],
      "metadata": {
        "id": "JhWYC6Kv2l4k"
      }
    },
    {
      "cell_type": "markdown",
      "metadata": {
        "id": "GjPELOm2sJQg"
      },
      "source": [
        "Conside a rigid body moving in space. Let $\\mathbf{b}$ be a body fixed frame with the origin coinciding with that of the center of mass of the body, $M$ be the tatal mass of the body, $\\mathbb{I}$ be the inertia tensor of the body with respect to the body frame $\\mathbf{b}$, $f^e$ be the resultant total external interactions acting on the particles of the body, and $\\tau^e$ be the total resultant of the moments of the external interactions about the center of mass of the body.\n",
        "\n",
        "Show that a general rigid body is descibed by the following simple equations in an inertial frame $\\mathbf{e}$ where the moments are taken about the center of mass of the rigid body."
      ]
    },
    {
      "cell_type": "markdown",
      "metadata": {
        "id": "2FFWl8Whs8HJ"
      },
      "source": [
        "\\begin{align}\n",
        "\\dot{o}&=\\frac{1}{M}p\\\\\n",
        "\\dot{R}&=\\widehat{\\omega}R,\\\\\n",
        "\\dot{p}&=f^e+f^u,\\\\\n",
        "\\dot{\\pi}&=\\tau^e+\\tau^u,\n",
        "\\end{align}\n",
        "where\n",
        "\\begin{align}\n",
        "\\omega &=(\\mathbb{I}_c^R)^{-1}\\pi,\n",
        "\\end{align}\n",
        "Here we have split the force and control moments into unmanipulatable and manipulatable (control) part. The manipulatable (control) part will be denoted by a superscript $u$."
      ]
    },
    {
      "cell_type": "markdown",
      "source": [
        "#ANSWER FOR TASK1"
      ],
      "metadata": {
        "id": "4wVf6nwsOnQD"
      }
    },
    {
      "cell_type": "markdown",
      "source": [
        "The equation \"$\\dot{o}=\\frac{1}{M}p$\" represents the relationship between the derivative of the position vector \"o\" with respect to time and the linear momentum \"p\" divided by the total mass \"M,\" as stated in Newton's second law.\n",
        "\n",
        "Newton's second law, expressed as the equation:\n",
        "\\begin{equation}\n",
        "\\frac{d\\mathbf{p}}{dt} = \\sum \\mathbf{F},\n",
        "\\end{equation}\n",
        "implies that the time derivative of the momentum vector \"p\" is equal to the sum of all external forces acting on the body.\n",
        "\n",
        "For a rigid body, the momentum vector \"p\" is defined as the sum of the linear momenta of all particles within the body, given by:\n",
        "\\begin{equation}\n",
        "\\mathbf{p} = \\sum m_i \\mathbf{v}_i,\n",
        "\\end{equation}\n",
        "where $m_i$ and ${v}_i$ represent the mass and velocity of the \"$i$\" th  particle, respectively.\n",
        "\n",
        "The position vector of the center of mass of a rigid body is determined by the equation:\n",
        "\\begin{equation}\n",
        "\\mathbf{o} = \\frac{1}{M} \\sum m_i \\mathbf{r}_i,\n",
        "\\end{equation}\n",
        "where $o$ denotes the position vector of the center of mass, $r_i$ represents the position vector of the \"i\"-th particle, and \"$M$\" corresponds to the total mass of the body, given by $M = \\sum m_i$\n",
        "\n",
        "Differentiating this equation with respect to time yields:\n",
        "\\begin{align}\n",
        "\\dot{\\mathbf{o}} &= \\frac{d}{dt} \\left( \\frac{1}{M} \\sum m_i \\mathbf{r}_i \\right) \\\n",
        "\\end{align}\n",
        "\\begin{align}\n",
        "&= \\frac{1}{M} \\sum m_i \\frac{d\\mathbf{r}_i}{dt} \\\n",
        "\\end{align}\n",
        "\\begin{align}\n",
        "&= \\frac{1}{M} \\sum m_i \\mathbf{v}_i \\\n",
        "\\end{align}\n",
        "\\begin{align}\n",
        "&= \\frac{1}{M} \\mathbf{p}.\n",
        "\\end{align}\n",
        "\n",
        "\n",
        "The equation $\\dot{\\mathbf{o}} = \\frac{1}{M} \\mathbf{p}$ demonstrates that the rate of change of the center of mass position, represented by $\\dot{\\mathbf{o}}$, is equal to the total linear momentum divided by the total mass of the body."
      ],
      "metadata": {
        "id": "waJtk7wKOtq_"
      }
    },
    {
      "cell_type": "markdown",
      "source": [
        "#Task#2"
      ],
      "metadata": {
        "id": "PT5T8y9-3h1H"
      }
    },
    {
      "cell_type": "markdown",
      "source": [
        "Simulate the motion of a quadrotor UAV without resorting any parameterization of $SO(3)$ such as Euler angles or quaternions."
      ],
      "metadata": {
        "id": "iETMxXB04IZj"
      }
    },
    {
      "cell_type": "markdown",
      "source": [
        "#ANSWER FOR TASK 2"
      ],
      "metadata": {
        "id": "vGYz1r6sUXeO"
      }
    },
    {
      "cell_type": "markdown",
      "source": [
        "To simulate the motion of a quadrotor UAV without resorting to any parameterization of SO(3) such as Euler angles or quaternions, we can follow the approach presented in the reference notebook.\n",
        "\n",
        "The key idea is to use the rotation matrix to represent the orientation of the quadrotor, which avoids the need for Euler angles or quaternions. The state of the quadrotor can be defined as:\n",
        "\n",
        "\\begin{equation}\n",
        "\\mathbf{x} = \\begin{bmatrix}\n",
        "\\mathbf{p} \\\\[0.3em]\n",
        "\\mathbf{v} \\\\[0.3em]\n",
        "\\mathbf{R}\n",
        "\\end{bmatrix}\n",
        "\\end{equation}\n",
        "\n",
        "where:\n",
        "- $\\mathbf{p}$ is the position vector of the UAV.\n",
        "- $\\mathbf{v}$ is the linear velocity vector of the UAV.\n",
        "- $\\mathbf{R}$ is the rotation matrix representing the orientation of the UAV.\n",
        "\n",
        "To simulate the motion, we can use numerical integration methods such as the Euler method, Runge-Kutta methods, or other higher-order integration methods. Here's an example using the Euler method:\n",
        "\n",
        "Initialize the state:\n",
        "\\begin{equation}\n",
        "\\mathbf{x}_0 = \\begin{bmatrix}\n",
        "\\mathbf{p}_0 \\\\[0.3em]\n",
        "\\mathbf{v}_0 \\\\[0.3em]\n",
        "\\mathbf{R}_0\n",
        "\\end{bmatrix}\n",
        "\\end{equation}\n",
        "\n",
        "Set the time step size $\\Delta t$ and the total simulation time $T$.\n",
        "\n",
        "For $t$ from 0 to $T$ with step $\\Delta t$, do:\n",
        "\\begin{align}\n",
        "\\mathbf{p}_{t+\\Delta t} &= \\mathbf{p}_t + \\Delta t \\cdot \\mathbf{v}_t \\\\\n",
        "\\mathbf{v}_{t+\\Delta t} &= \\mathbf{v}_t + \\Delta t \\cdot \\mathbf{a}_t \\\\\n",
        "\\boldsymbol{\\omega} &= \\boldsymbol{\\omega}_t \\cdot \\Delta t \\\\\n",
        "\\mathbf{R}_{t+\\Delta t} &= \\mathbf{R}_t \\cdot \\exp(\\boldsymbol{\\omega})\n",
        "\\end{align}\n",
        "\n",
        "where $\\mathbf{a}_t$ is the linear acceleration of the quadrotor at time $t$, and $\\exp(\\boldsymbol{\\omega})$ represents the matrix exponential of the angular velocity vector $\\boldsymbol{\\omega}$.\n",
        "\n",
        "Repeat the above steps until reaching the total simulation time $T$.\n",
        "\n",
        "\n",
        "\n"
      ],
      "metadata": {
        "id": "10t8WG9pTYst"
      }
    },
    {
      "cell_type": "markdown",
      "source": [
        "#Task#3"
      ],
      "metadata": {
        "id": "iYtoUarB4L6Q"
      }
    },
    {
      "cell_type": "markdown",
      "source": [
        "Deerive a PID controller for the attitude control of a quadrorotor and use simulations to demibstrate the very large region of stability of the controller"
      ],
      "metadata": {
        "id": "AxOY5o-34TCz"
      }
    },
    {
      "cell_type": "markdown",
      "source": [
        "Here are few example our own implementations of this controller.\n",
        "\n",
        "* https://youtu.be/6E9WDQNVSYA\n",
        "* https://youtu.be/uUKxXImRMOA\n",
        "* https://youtu.be/zq05N8m_9SA\n",
        "* https://youtu.be/J5dThZGZN2g\n",
        "* https://youtu.be/J5MMp6Be3tU\n",
        "* https://youtu.be/6ZQgE1FI6Wc"
      ],
      "metadata": {
        "id": "cInu25giFEXw"
      }
    },
    {
      "cell_type": "markdown",
      "source": [
        "#Task#4"
      ],
      "metadata": {
        "id": "o6XRW2MR4nVw"
      }
    },
    {
      "cell_type": "markdown",
      "source": [
        "Derive a specialization of the controller develoed in Task#3 for the problem of stabilzing an inverted pendulum on a cart."
      ],
      "metadata": {
        "id": "u9vdw-yM4rem"
      }
    },
    {
      "cell_type": "markdown",
      "source": [
        "#Task#5"
      ],
      "metadata": {
        "id": "jkEiEv8sEPhG"
      }
    },
    {
      "cell_type": "markdown",
      "source": [
        " Experimentally verify the stability properties of the controller derived in Task#5 using the experimental setup available in the applied mechanics lab."
      ],
      "metadata": {
        "id": "w2WRdKSTEQ7i"
      }
    }
  ]
}