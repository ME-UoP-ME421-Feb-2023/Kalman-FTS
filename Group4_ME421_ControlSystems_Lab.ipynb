{
  "nbformat": 4,
  "nbformat_minor": 0,
  "metadata": {
    "colab": {
      "provenance": [],
      "include_colab_link": true
    },
    "kernelspec": {
      "name": "python3",
      "display_name": "Python 3"
    },
    "language_info": {
      "name": "python"
    }
  },
  "cells": [
    {
      "cell_type": "markdown",
      "metadata": {
        "id": "view-in-github",
        "colab_type": "text"
      },
      "source": [
        "<a href=\"https://colab.research.google.com/github/ME-UoP-ME421/Kalman-FTS/blob/main/Group4_ME421_ControlSystems_Lab.ipynb\" target=\"_parent\"><img src=\"https://colab.research.google.com/assets/colab-badge.svg\" alt=\"Open In Colab\"/></a>"
      ]
    },
    {
      "cell_type": "markdown",
      "source": [
        "#Instructions"
      ],
      "metadata": {
        "id": "tjwc7ZikCWjn"
      }
    },
    {
      "cell_type": "markdown",
      "source": [
        "* This is a group assignment. Complete the activities in groups that were assigned for ME421 for the vibrations lab.\n",
        "\n",
        "* Make a copy of this and save it in your group github group repository.\n",
        "\n",
        "* Do all your work, EXCLUSIVELY, in that saved notebook. Your github commits will serve as a refelection of your individual contributions. It will constitute 25% of your final grade for the lab.\n",
        "\n",
        "* Complete Tasks#1 and Task#2 by 5:00PM on 14/06/2023\n",
        "\n",
        "* Complete Tasks#3 and the Task#4 by 5:00PM on 21/06/2023 and demonstrate the work in the class on 21/06/2023.\n",
        "\n",
        "* Complete Task#5 by 5:00PM on 28/06/2023."
      ],
      "metadata": {
        "id": "pOeY40kCCZIY"
      }
    },
    {
      "cell_type": "markdown",
      "source": [
        "#References"
      ],
      "metadata": {
        "id": "xQxmvsoX2wtl"
      }
    },
    {
      "cell_type": "markdown",
      "source": [
        "* https://colab.research.google.com/github/mugalan/classical-mechanics-from-a-geometric-point-of-view/blob/main/rigid-body-control/Mugas_Rigid_Body_Control.ipynb\n",
        "\n",
        "* https://github.com/mugalan/classical-mechanics-from-a-geometric-point-of-view/blob/main/rigid-body-control/MaithriPalaDHS_RigidBodyPIDControl_IITB_18_03_2023.pdf"
      ],
      "metadata": {
        "id": "N2PYkHmG2y9o"
      }
    },
    {
      "cell_type": "markdown",
      "source": [
        "#Task#1"
      ],
      "metadata": {
        "id": "JhWYC6Kv2l4k"
      }
    },
    {
      "cell_type": "markdown",
      "metadata": {
        "id": "GjPELOm2sJQg"
      },
      "source": [
        "Conside a rigid body moving in space. Let $\\mathbf{b}$ be a body fixed frame with the origin coinciding with that of the center of mass of the body, $M$ be the tatal mass of the body, $\\mathbb{I}$ be the inertia tensor of the body with respect to the body frame $\\mathbf{b}$, $f^e$ be the resultant total external interactions acting on the particles of the body, and $\\tau^e$ be the total resultant of the moments of the external interactions about the center of mass of the body.\n",
        "\n",
        "Show that a general rigid body is descibed by the following simple equations in an inertial frame $\\mathbf{e}$ where the moments are taken about the center of mass of the rigid body."
      ]
    },
    {
      "cell_type": "markdown",
      "metadata": {
        "id": "2FFWl8Whs8HJ"
      },
      "source": [
        "\\begin{align}\n",
        "\\dot{o}&=\\frac{1}{M}p\\\\\n",
        "\\dot{R}&=\\widehat{\\omega}R,\\\\\n",
        "\\dot{p}&=f^e+f^u,\\\\\n",
        "\\dot{\\pi}&=\\tau^e+\\tau^u,\n",
        "\\end{align}\n",
        "where\n",
        "\\begin{align}\n",
        "\\omega &=(\\mathbb{I}_c^R)^{-1}\\pi,\n",
        "\\end{align}\n",
        "Here we have split the force and control moments into unmanipulatable and manipulatable (control) part. The manipulatable (control) part will be denoted by a superscript $u$."
      ]
    },
    {
      "cell_type": "markdown",
      "source": [
        "Total Linear momentum of particles of the body fixed frame is,\n",
        "\\begin{align}\n",
        "p &= \\sum m_i\\dot{x_i} = \\sum m_i (\\dot{o} + \\dot{(RX_i)}) \\\\\n",
        "\\dot{(RX_i)} &= \\dot{R}X_i + R\\dot{X_i} = R(\\widehat{\\Omega}X_i + \\dot{X_i})\\\\\n",
        "p &= M(\\dot{o}+ R(\\widehat{\\Omega}\\bar{X} + \\dot{X})\n",
        "\\end{align}\n",
        "\n",
        "For a body fixed rigid body $\\dot{X_i} = 0_{3\\times1}$ and when the center of mass of the body coincide with $b$ frame, $\\bar{X} = 0$\n",
        "\n",
        "Therefore,\n",
        "\\begin{align}\n",
        "p &= M\\dot{o}\\\\\n",
        "\\dot{o} &= \\frac{1}{M} p   --------(1)\n",
        "\\end{align}\n",
        "\n",
        "The body angular velocity of the rigid body is $\\Omega$ and $\\widehat{\\Omega} = R^T\\dot{R}$ wher $R$ is a special orthogonal matrix with $RR^T = R^TR = I$.\n",
        "\n",
        "The spatial angular velocity about the $e$ frame is $\\omega = R\\Omega$. Also $\\widehat{\\Omega}=\\widehat{R^T\\omega}=R^T\\widehat{\\omega}R$\n",
        "\n",
        "\\begin{align}\n",
        "\\dot{R} &= R\\widehat{\\Omega}\\\\\n",
        "&= R\\widehat{R^T\\omega} = RR^T\\widehat{\\omega}R\\\\\n",
        "\\dot{R} &= \\widehat{\\omega}R  -------------(2)\n",
        "\\end{align}\n",
        "\n",
        "Rate of change of linear momentum of partcles in a rigid body about an inertial fram $e$ is,\n",
        "\n",
        "\\begin{align}\n",
        "\\dot{p} &= \\sum m_i \\ddot{x_i} = M\\ddot{\\bar{x}}\n",
        "\\end{align}\n",
        "\n",
        "The distance from origin of frame $e$ to the center of mass of the rigid body \\begin{align}\n",
        "\\bar{x} &= o + R\\bar{X}\\\\\n",
        "\\dot{\\bar{x}} &= \\dot{o} + R\\widehat{\\Omega}\\bar{X} \\:\\:\\:\\: ;\\dot{\\bar{X}} = 0  , \\dot{R} = R\\widehat{\\Omega} \\\\\n",
        "\\ddot{\\bar{x}} &= \\ddot{o} + \\ddot{(R\\bar{X})}\\\\\n",
        "\\dot{p} &= M\\ddot{\\bar{x}} = M(\\ddot{o} + \\ddot{(R\\bar{X})})\\\\\n",
        "\\dot{p} & =  f_i  = f^u + f^e ----------(3)\n",
        "\\end{align}\n",
        "\n",
        "Total angular momentum of the particles about the origin $O'$ of the body fixed frame $\\pi =\\sum_{i=1}^n\\pi_i = \\sum_{i=1}^n (x_i - o) \\times p = \\sum_{i=1}^n (x_i-o) \\times m_i\\dot{x}_i $\n",
        "\n",
        "The rate of change of total angular momentum,\n",
        "\n",
        "\\begin{align}\n",
        "\\dot{\\pi} &= \\sum_{i=1}^n \\{(\\dot{x_i}-\\dot{o}) \\times m_i\\dot{x}_i + (x_i-o) \\times m_i\\ddot{x}_i    \\} \\:\\:\\:\\ ; \\dot{x} \\times \\dot{x} = 0\n",
        "\\end{align}\n",
        "\n",
        "\\begin{align}\n",
        "\\dot{\\pi} &= \\sum_{i=1}^n \\{-\\dot{o} \\times m_i\\dot{x}_i + (x_i-o) \\times m_i\\ddot{x}_i    \\} = \\sum_{i=1}^n -\\dot{o} \\times m_i\\dot{x}_i + \\sum_{i=1}^n (x_i-o) \\times f^e_i\n",
        "\\end{align}\n",
        "\n",
        "\\begin{align}\n",
        "  &=  -\\dot{o} \\times \\sum_{i=1}^n m_i \\dot{x}_i + \\tau^e   where    \\sum_{i=1}^n m_i \\dot{x}_i = M \\dot{\\bar{x}} \\:\\:\\:$ and \\tau^e=\\sum_{i=1}^n(x_i-o)\\times f_i^e\\\\\\\\\n",
        "  \\dot{\\pi} &= -M\\dot{o} \\times \\dot{\\bar{x}} + \\tau^e = \\tau^u + \\tau^e  ---------(4)\n",
        "\\end{align}"
      ],
      "metadata": {
        "id": "F1EiToAFZiO4"
      }
    },
    {
      "cell_type": "markdown",
      "source": [
        "#Task#2"
      ],
      "metadata": {
        "id": "PT5T8y9-3h1H"
      }
    },
    {
      "cell_type": "markdown",
      "source": [
        "Simulate the motion of a quadrotor UAV without resorting any parameterization of $SO(3)$ such as Euler angles or quaternions."
      ],
      "metadata": {
        "id": "iETMxXB04IZj"
      }
    },
    {
      "cell_type": "markdown",
      "source": [
        "#Task#3"
      ],
      "metadata": {
        "id": "iYtoUarB4L6Q"
      }
    },
    {
      "cell_type": "code",
      "source": [],
      "metadata": {
        "id": "cGEQUAQidsuT"
      },
      "execution_count": null,
      "outputs": []
    },
    {
      "cell_type": "markdown",
      "source": [
        "Deerive a PID controller for the attitude control of a quadrorotor and use simulations to demibstrate the very large region of stability of the controller"
      ],
      "metadata": {
        "id": "AxOY5o-34TCz"
      }
    },
    {
      "cell_type": "markdown",
      "source": [
        "Here are few example our own implementations of this controller.\n",
        "\n",
        "* https://youtu.be/6E9WDQNVSYA\n",
        "* https://youtu.be/uUKxXImRMOA\n",
        "* https://youtu.be/zq05N8m_9SA\n",
        "* https://youtu.be/J5dThZGZN2g\n",
        "* https://youtu.be/J5MMp6Be3tU\n",
        "* https://youtu.be/6ZQgE1FI6Wc"
      ],
      "metadata": {
        "id": "cInu25giFEXw"
      }
    },
    {
      "cell_type": "markdown",
      "source": [
        "#Task#4"
      ],
      "metadata": {
        "id": "o6XRW2MR4nVw"
      }
    },
    {
      "cell_type": "markdown",
      "source": [
        "Derive a specialization of the controller develoed in Task#3 for the problem of stabilzing an inverted pendulum on a cart."
      ],
      "metadata": {
        "id": "u9vdw-yM4rem"
      }
    },
    {
      "cell_type": "markdown",
      "source": [
        "#Task#5"
      ],
      "metadata": {
        "id": "jkEiEv8sEPhG"
      }
    },
    {
      "cell_type": "markdown",
      "source": [
        " Experimentally verify the stability properties of the controller derived in Task#5 using the experimental setup available in the applied mechanics lab."
      ],
      "metadata": {
        "id": "w2WRdKSTEQ7i"
      }
    },
    {
      "cell_type": "markdown",
      "source": [
        "References:\n",
        "\n",
        "1) https://sioslab.com/wp-content/uploads/2019/07/Ranganathan_Senior_Design_Final_Report.pdf\n",
        "\n",
        "2) https://github.com/bobzwik/Quad_Exploration\n",
        "\n",
        "3) https://math.stackexchange.com/questions/3615527/quaternion-pid-control\n",
        "\n",
        "4) https://www.researchgate.net/publication/271285250_Attitude_Control_of_a_Quadrotor_with_Optimized_PID_Controller"
      ],
      "metadata": {
        "id": "lL6k_f4mFXYk"
      }
    }
  ]
}